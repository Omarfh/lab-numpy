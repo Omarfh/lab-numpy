{
 "cells": [
  {
   "cell_type": "code",
   "execution_count": 4,
   "id": "cb3f352a",
   "metadata": {},
   "outputs": [],
   "source": [
    "import numpy as np"
   ]
  },
  {
   "cell_type": "code",
   "execution_count": 7,
   "id": "a5e9839d",
   "metadata": {},
   "outputs": [
    {
     "name": "stdout",
     "output_type": "stream",
     "text": [
      "1.20.1\n"
     ]
    }
   ],
   "source": [
    "print(np.version.version)"
   ]
  },
  {
   "cell_type": "code",
   "execution_count": 11,
   "id": "5735d8e9",
   "metadata": {},
   "outputs": [
    {
     "data": {
      "text/plain": [
       "array([[[0.67752708, 0.98495101, 0.68019902, 0.26075628, 0.38254903],\n",
       "        [0.96080461, 0.75419127, 0.58343362, 0.52338944, 0.12143929],\n",
       "        [0.91326628, 0.06367518, 0.68982045, 0.22623423, 0.71554117]],\n",
       "\n",
       "       [[0.79762172, 0.47021665, 0.38929885, 0.20108452, 0.89578344],\n",
       "        [0.78546989, 0.43255904, 0.29605205, 0.65048646, 0.4979804 ],\n",
       "        [0.55244051, 0.21249332, 0.94844079, 0.57212456, 0.22120639]]])"
      ]
     },
     "execution_count": 11,
     "metadata": {},
     "output_type": "execute_result"
    }
   ],
   "source": [
    "a = np.random.random((2,3,5))\n",
    "a"
   ]
  },
  {
   "cell_type": "code",
   "execution_count": 14,
   "id": "fe7a46b9",
   "metadata": {},
   "outputs": [
    {
     "data": {
      "text/plain": [
       "array([[[1., 1., 1.],\n",
       "        [1., 1., 1.]],\n",
       "\n",
       "       [[1., 1., 1.],\n",
       "        [1., 1., 1.]],\n",
       "\n",
       "       [[1., 1., 1.],\n",
       "        [1., 1., 1.]],\n",
       "\n",
       "       [[1., 1., 1.],\n",
       "        [1., 1., 1.]],\n",
       "\n",
       "       [[1., 1., 1.],\n",
       "        [1., 1., 1.]]])"
      ]
     },
     "execution_count": 14,
     "metadata": {},
     "output_type": "execute_result"
    }
   ],
   "source": [
    "b = np.ones((5,2,3))\n",
    "b"
   ]
  },
  {
   "cell_type": "code",
   "execution_count": 15,
   "id": "a798a010",
   "metadata": {},
   "outputs": [
    {
     "data": {
      "text/plain": [
       "30"
      ]
     },
     "execution_count": 15,
     "metadata": {},
     "output_type": "execute_result"
    }
   ],
   "source": [
    "a.size"
   ]
  },
  {
   "cell_type": "code",
   "execution_count": 17,
   "id": "83514736",
   "metadata": {},
   "outputs": [
    {
     "data": {
      "text/plain": [
       "30"
      ]
     },
     "execution_count": 17,
     "metadata": {},
     "output_type": "execute_result"
    }
   ],
   "source": [
    "b.size"
   ]
  },
  {
   "cell_type": "code",
   "execution_count": 20,
   "id": "31284799",
   "metadata": {},
   "outputs": [
    {
     "data": {
      "text/plain": [
       "(2, 3, 5)"
      ]
     },
     "execution_count": 20,
     "metadata": {},
     "output_type": "execute_result"
    }
   ],
   "source": [
    "a.shape"
   ]
  },
  {
   "cell_type": "code",
   "execution_count": 22,
   "id": "e2886f58",
   "metadata": {},
   "outputs": [
    {
     "data": {
      "text/plain": [
       "(5, 2, 3)"
      ]
     },
     "execution_count": 22,
     "metadata": {},
     "output_type": "execute_result"
    }
   ],
   "source": [
    "b.shape"
   ]
  },
  {
   "cell_type": "code",
   "execution_count": 23,
   "id": "f6c9aef9",
   "metadata": {},
   "outputs": [
    {
     "data": {
      "text/plain": [
       "3"
      ]
     },
     "execution_count": 23,
     "metadata": {},
     "output_type": "execute_result"
    }
   ],
   "source": [
    "a.ndim"
   ]
  },
  {
   "cell_type": "code",
   "execution_count": 25,
   "id": "292f8f88",
   "metadata": {},
   "outputs": [
    {
     "data": {
      "text/plain": [
       "3"
      ]
     },
     "execution_count": 25,
     "metadata": {},
     "output_type": "execute_result"
    }
   ],
   "source": [
    "b.ndim"
   ]
  },
  {
   "cell_type": "code",
   "execution_count": 27,
   "id": "4e3f10f5",
   "metadata": {},
   "outputs": [
    {
     "data": {
      "text/plain": [
       "array([[[1., 1., 1., 1., 1.],\n",
       "        [1., 1., 1., 1., 1.]],\n",
       "\n",
       "       [[1., 1., 1., 1., 1.],\n",
       "        [1., 1., 1., 1., 1.]],\n",
       "\n",
       "       [[1., 1., 1., 1., 1.],\n",
       "        [1., 1., 1., 1., 1.]]])"
      ]
     },
     "execution_count": 27,
     "metadata": {},
     "output_type": "execute_result"
    }
   ],
   "source": [
    "b.transpose()"
   ]
  },
  {
   "cell_type": "code",
   "execution_count": 29,
   "id": "51bcf766",
   "metadata": {},
   "outputs": [
    {
     "data": {
      "text/plain": [
       "(2, 3, 5)"
      ]
     },
     "execution_count": 29,
     "metadata": {},
     "output_type": "execute_result"
    }
   ],
   "source": [
    "a.shape"
   ]
  },
  {
   "cell_type": "code",
   "execution_count": 31,
   "id": "20802f7b",
   "metadata": {},
   "outputs": [
    {
     "data": {
      "text/plain": [
       "array([[[1., 1., 1.],\n",
       "        [1., 1., 1.]],\n",
       "\n",
       "       [[1., 1., 1.],\n",
       "        [1., 1., 1.]],\n",
       "\n",
       "       [[1., 1., 1.],\n",
       "        [1., 1., 1.]],\n",
       "\n",
       "       [[1., 1., 1.],\n",
       "        [1., 1., 1.]],\n",
       "\n",
       "       [[1., 1., 1.],\n",
       "        [1., 1., 1.]]])"
      ]
     },
     "execution_count": 31,
     "metadata": {},
     "output_type": "execute_result"
    }
   ],
   "source": [
    "b"
   ]
  },
  {
   "cell_type": "code",
   "execution_count": 39,
   "id": "a5fc702f",
   "metadata": {},
   "outputs": [
    {
     "data": {
      "text/plain": [
       "array([[[1., 1., 1., 1., 1.],\n",
       "        [1., 1., 1., 1., 1.],\n",
       "        [1., 1., 1., 1., 1.]],\n",
       "\n",
       "       [[1., 1., 1., 1., 1.],\n",
       "        [1., 1., 1., 1., 1.],\n",
       "        [1., 1., 1., 1., 1.]]])"
      ]
     },
     "execution_count": 39,
     "metadata": {},
     "output_type": "execute_result"
    }
   ],
   "source": [
    "c = np.reshape(b, (2,3,5))\n",
    "c"
   ]
  },
  {
   "cell_type": "code",
   "execution_count": 43,
   "id": "c468c27c",
   "metadata": {},
   "outputs": [
    {
     "data": {
      "text/plain": [
       "array([[[1., 1., 1., 1., 1.],\n",
       "        [1., 1., 1., 1., 1.]],\n",
       "\n",
       "       [[1., 1., 1., 1., 1.],\n",
       "        [1., 1., 1., 1., 1.]],\n",
       "\n",
       "       [[1., 1., 1., 1., 1.],\n",
       "        [1., 1., 1., 1., 1.]]])"
      ]
     },
     "execution_count": 43,
     "metadata": {},
     "output_type": "execute_result"
    }
   ],
   "source": [
    "b2 = b.transpose()\n",
    "b2"
   ]
  },
  {
   "cell_type": "code",
   "execution_count": 45,
   "id": "12b2bcd9",
   "metadata": {},
   "outputs": [
    {
     "data": {
      "text/plain": [
       "array([[[1.67752708, 1.98495101, 1.68019902, 1.26075628, 1.38254903],\n",
       "        [1.96080461, 1.75419127, 1.58343362, 1.52338944, 1.12143929],\n",
       "        [1.91326628, 1.06367518, 1.68982045, 1.22623423, 1.71554117]],\n",
       "\n",
       "       [[1.79762172, 1.47021665, 1.38929885, 1.20108452, 1.89578344],\n",
       "        [1.78546989, 1.43255904, 1.29605205, 1.65048646, 1.4979804 ],\n",
       "        [1.55244051, 1.21249332, 1.94844079, 1.57212456, 1.22120639]]])"
      ]
     },
     "execution_count": 45,
     "metadata": {},
     "output_type": "execute_result"
    }
   ],
   "source": [
    "d = a+c\n",
    "d"
   ]
  },
  {
   "cell_type": "code",
   "execution_count": 51,
   "id": "125c5401",
   "metadata": {},
   "outputs": [
    {
     "name": "stdout",
     "output_type": "stream",
     "text": [
      "[[[0.67752708 0.98495101 0.68019902 0.26075628 0.38254903]\n",
      "  [0.96080461 0.75419127 0.58343362 0.52338944 0.12143929]\n",
      "  [0.91326628 0.06367518 0.68982045 0.22623423 0.71554117]]\n",
      "\n",
      " [[0.79762172 0.47021665 0.38929885 0.20108452 0.89578344]\n",
      "  [0.78546989 0.43255904 0.29605205 0.65048646 0.4979804 ]\n",
      "  [0.55244051 0.21249332 0.94844079 0.57212456 0.22120639]]]\n",
      "[[[1.67752708 1.98495101 1.68019902 1.26075628 1.38254903]\n",
      "  [1.96080461 1.75419127 1.58343362 1.52338944 1.12143929]\n",
      "  [1.91326628 1.06367518 1.68982045 1.22623423 1.71554117]]\n",
      "\n",
      " [[1.79762172 1.47021665 1.38929885 1.20108452 1.89578344]\n",
      "  [1.78546989 1.43255904 1.29605205 1.65048646 1.4979804 ]\n",
      "  [1.55244051 1.21249332 1.94844079 1.57212456 1.22120639]]]\n"
     ]
    }
   ],
   "source": [
    "print(a)\n",
    "print(d)"
   ]
  },
  {
   "cell_type": "code",
   "execution_count": 52,
   "id": "2bba4427",
   "metadata": {},
   "outputs": [
    {
     "data": {
      "text/plain": [
       "array([[[0.67752708, 0.98495101, 0.68019902, 0.26075628, 0.38254903],\n",
       "        [0.96080461, 0.75419127, 0.58343362, 0.52338944, 0.12143929],\n",
       "        [0.91326628, 0.06367518, 0.68982045, 0.22623423, 0.71554117]],\n",
       "\n",
       "       [[0.79762172, 0.47021665, 0.38929885, 0.20108452, 0.89578344],\n",
       "        [0.78546989, 0.43255904, 0.29605205, 0.65048646, 0.4979804 ],\n",
       "        [0.55244051, 0.21249332, 0.94844079, 0.57212456, 0.22120639]]])"
      ]
     },
     "execution_count": 52,
     "metadata": {},
     "output_type": "execute_result"
    }
   ],
   "source": [
    "e = a*c\n",
    "e"
   ]
  },
  {
   "cell_type": "code",
   "execution_count": 54,
   "id": "cb755ebf",
   "metadata": {},
   "outputs": [
    {
     "data": {
      "text/plain": [
       "array([[[ True,  True,  True,  True,  True],\n",
       "        [ True,  True,  True,  True,  True],\n",
       "        [ True,  True,  True,  True,  True]],\n",
       "\n",
       "       [[ True,  True,  True,  True,  True],\n",
       "        [ True,  True,  True,  True,  True],\n",
       "        [ True,  True,  True,  True,  True]]])"
      ]
     },
     "execution_count": 54,
     "metadata": {},
     "output_type": "execute_result"
    }
   ],
   "source": [
    "a == e"
   ]
  },
  {
   "cell_type": "code",
   "execution_count": 58,
   "id": "429fe91b",
   "metadata": {},
   "outputs": [
    {
     "name": "stdout",
     "output_type": "stream",
     "text": [
      "El valor maximo de 'd' es:  1.984951012879347\n",
      "El valor minimo de 'd' es:  1.063675180412697\n",
      "El promedio de 'd' es:  1.5487012176355996\n"
     ]
    }
   ],
   "source": [
    "d_max = np.max(d)\n",
    "d_min = np.min(d)\n",
    "d_mean = np.mean(d)\n",
    "\n",
    "print(\"El valor maximo de 'd' es: \", d_max)\n",
    "print(\"El valor minimo de 'd' es: \", d_min)\n",
    "print(\"El promedio de 'd' es: \", d_mean)\n"
   ]
  },
  {
   "cell_type": "code",
   "execution_count": 61,
   "id": "80aebfa3",
   "metadata": {},
   "outputs": [
    {
     "data": {
      "text/plain": [
       "array([[[ 4.24399158e-314,  0.00000000e+000,  0.00000000e+000,\n",
       "          0.00000000e+000,  0.00000000e+000],\n",
       "        [ 0.00000000e+000,  0.00000000e+000,  0.00000000e+000,\n",
       "          0.00000000e+000,  0.00000000e+000],\n",
       "        [ 0.00000000e+000, -8.15824090e-311,  2.95929617e+203,\n",
       "          3.98576416e-038,  6.01334510e-154],\n",
       "        [-1.25635059e-310,  4.62857235e-072,  1.05963508e-153,\n",
       "          2.95967890e+203,  2.61211041e-033]],\n",
       "\n",
       "       [[ 6.01334510e-154,  6.01347002e-154,  3.03338118e-067,\n",
       "         -8.79059753e-311,  4.24399158e-314],\n",
       "        [ 0.00000000e+000,  0.00000000e+000,  0.00000000e+000,\n",
       "          0.00000000e+000,  0.00000000e+000],\n",
       "        [ 0.00000000e+000,  0.00000000e+000,  0.00000000e+000,\n",
       "          0.00000000e+000,  0.00000000e+000],\n",
       "        [-9.48024571e-311,  6.32264832e+233,  1.02215496e-234,\n",
       "          4.14647719e+185, -1.43481042e-310]]])"
      ]
     },
     "execution_count": 61,
     "metadata": {},
     "output_type": "execute_result"
    }
   ],
   "source": [
    "f = np.empty((2,4,5))\n",
    "f"
   ]
  },
  {
   "cell_type": "code",
   "execution_count": 66,
   "id": "b2a51440",
   "metadata": {},
   "outputs": [
    {
     "data": {
      "text/plain": [
       "array([[[ 4.24399158e-314,  0.00000000e+000,  0.00000000e+000,\n",
       "          0.00000000e+000,  0.00000000e+000],\n",
       "        [ 0.00000000e+000,  0.00000000e+000,  0.00000000e+000,\n",
       "          0.00000000e+000,  0.00000000e+000],\n",
       "        [ 0.00000000e+000, -8.15824090e-311,  2.95929617e+203,\n",
       "          3.98576416e-038,  6.01334510e-154],\n",
       "        [-1.25635059e-310,  4.62857235e-072,  1.05963508e-153,\n",
       "          2.95967890e+203,  2.61211041e-033]],\n",
       "\n",
       "       [[ 6.01334510e-154,  6.01347002e-154,  3.03338118e-067,\n",
       "         -8.79059753e-311,  4.24399158e-314],\n",
       "        [ 0.00000000e+000,  0.00000000e+000,  0.00000000e+000,\n",
       "          0.00000000e+000,  0.00000000e+000],\n",
       "        [ 0.00000000e+000,  0.00000000e+000,  0.00000000e+000,\n",
       "          0.00000000e+000,  0.00000000e+000],\n",
       "        [-9.48024571e-311,  6.32264832e+233,  1.02215496e-234,\n",
       "          4.14647719e+185, -1.43481042e-310]]])"
      ]
     },
     "execution_count": 66,
     "metadata": {},
     "output_type": "execute_result"
    }
   ],
   "source": [
    "for primer_arreglo in f:\n",
    "    for segundo_arreglo in primer_arreglo:\n",
    "        for tercer_arreglo in segundo_arreglo:\n",
    "            if tercer_arreglo > d_min and tercer_arreglo < d_mean:\n",
    "                tercer_arreglo = 25\n",
    "f                "
   ]
  },
  {
   "cell_type": "code",
   "execution_count": 67,
   "id": "c0584495",
   "metadata": {},
   "outputs": [
    {
     "data": {
      "text/plain": [
       "array([1.26075628, 1.38254903, 1.52338944, 1.12143929, 1.22623423,\n",
       "       1.47021665, 1.38929885, 1.20108452, 1.43255904, 1.29605205,\n",
       "       1.4979804 , 1.21249332, 1.22120639])"
      ]
     },
     "execution_count": 67,
     "metadata": {},
     "output_type": "execute_result"
    }
   ],
   "source": [
    "d[(np.where((d > d_min) & (d < d_mean)))]"
   ]
  }
 ],
 "metadata": {
  "kernelspec": {
   "display_name": "Python 3",
   "language": "python",
   "name": "python3"
  },
  "language_info": {
   "codemirror_mode": {
    "name": "ipython",
    "version": 3
   },
   "file_extension": ".py",
   "mimetype": "text/x-python",
   "name": "python",
   "nbconvert_exporter": "python",
   "pygments_lexer": "ipython3",
   "version": "3.8.8"
  }
 },
 "nbformat": 4,
 "nbformat_minor": 5
}
